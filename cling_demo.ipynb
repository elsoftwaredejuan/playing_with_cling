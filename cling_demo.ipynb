{
 "cells": [
  {
   "cell_type": "markdown",
   "metadata": {},
   "source": [
    "# C++ kernel with Cling\n",
    "\n",
    "[Cling](https://root.cern.ch/drupal/content/cling) is an interpreter for C++."
   ]
  },
  {
   "cell_type": "markdown",
   "metadata": {},
   "source": [
    "## Install\n",
    "\n",
    " Execute installation [script](https://raw.githubusercontent.com/karies/cling-all-in-one/master/clone.sh) for compiling Cling: this script downloads and compile Cling.\n",
    " Some addintional [doc](https://indico.cern.ch/event/395198/attachments/791523/1084984/ROOT_Summer_Student_Tutorial_2015.pdf)\n",
    " \n",
    " \n",
    "## Execute Cling\n",
    " \n",
    " Once Cling is compiled you can execute the interpreter, I have a OSX El Capitan 10.11.1\n",
    " \n",
    " When I ran <code>./cling</code> I get  <code> fatal error: 'unistd.h' file not found </code> so we need to specify 'unistd.h' folder.\n",
    " \n",
    " I need to specify:\n",
    " <code>\n",
    " export CPATH=/Applications/Xcode.app/Contents/Developer/Platforms/MacOSX.platform/Developer/SDKs/MacOSX10.11.sdk/usr/include/:/Applications/Xcode.app/Contents/Developer/Toolchains/XcodeDefault.xctoolchain/usr/bin/../include/c++/v1:/Users/Juan/sandbox/cling/src/tools/cling/include:/Users/Juan/sandbox/cling/src/tools/clang/include:/Users/Juan/sandbox/cling/src/include\n",
    " </code>"
   ]
  },
  {
   "cell_type": "markdown",
   "metadata": {},
   "source": [
    "## Configure IPython Kernel\n",
    "\n",
    "Now we need to cofigure [IPython kernel](http://ipython.readthedocs.org/en/stable/) for that goal, I used [minrk/clingkernel.git](https://github.com/minrk/clingkernel.git), once I follow installation command I define <code>CLING_EXE</code> variable and ...<br>\n",
    "<b>Here it is!</b>"
   ]
  },
  {
   "cell_type": "markdown",
   "metadata": {},
   "source": [
    "http://en.cppreference.com/w/cpp/language/range-for"
   ]
  },
  {
   "cell_type": "code",
   "execution_count": 3,
   "metadata": {
    "collapsed": false
   },
   "outputs": [
    {
     "name": "stdout",
     "output_type": "stream",
     "text": []
    }
   ],
   "source": [
    "// Some includes\n",
    "#include <iostream>\n",
    "#include <vector>"
   ]
  },
  {
   "cell_type": "code",
   "execution_count": 4,
   "metadata": {
    "collapsed": false
   },
   "outputs": [
    {
     "name": "stdout",
     "output_type": "stream",
     "text": []
    }
   ],
   "source": [
    "//My first class\n",
    ".rawInput\n",
    "class HelloWorld { \n",
    "public: \n",
    "    \n",
    "   void do_something(){\n",
    "       std::cout <<\"Hello World!!\\n\";\n",
    "   }\n",
    "};\n",
    "\n",
    ".rawInput\n",
    "    \n",
    "auto say_hello = HelloWorld();"
   ]
  },
  {
   "cell_type": "code",
   "execution_count": 6,
   "metadata": {
    "collapsed": false
   },
   "outputs": [
    {
     "name": "stdout",
     "output_type": "stream",
     "text": []
    }
   ],
   "source": [
    "say_hello.do_something();"
   ]
  },
  {
   "cell_type": "code",
   "execution_count": 7,
   "metadata": {
    "collapsed": false
   },
   "outputs": [
    {
     "name": "stdout",
     "output_type": "stream",
     "text": [
      "Hello World!!\r\n"
     ]
    }
   ],
   "source": [
    "int f = 22;"
   ]
  }
 ],
 "metadata": {
  "kernelspec": {
   "display_name": "C++",
   "language": "",
   "name": "cling"
  },
  "language_info": {
   "codemirror_mode": "text/x-c++src",
   "file_extension": ".c++",
   "mimetype": " text/x-c++src",
   "name": "c++"
  }
 },
 "nbformat": 4,
 "nbformat_minor": 0
}
